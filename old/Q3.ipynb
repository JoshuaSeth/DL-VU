{
 "cells": [
  {
   "cell_type": "code",
   "execution_count": 1,
   "metadata": {},
   "outputs": [],
   "source": [
    "import math"
   ]
  },
  {
   "cell_type": "code",
   "execution_count": 2,
   "metadata": {},
   "outputs": [],
   "source": [
    "# Input and first layer\n",
    "x = [1, -1]\n",
    "w1 = [[1,1,1], [-1,-1,-1]]\n",
    "b1 = [0,0,0]"
   ]
  },
  {
   "cell_type": "code",
   "execution_count": 3,
   "metadata": {},
   "outputs": [
    {
     "data": {
      "text/plain": [
       "(2, 2, 2)"
      ]
     },
     "execution_count": 3,
     "metadata": {},
     "output_type": "execute_result"
    }
   ],
   "source": [
    "# Result of first weight and bias\n",
    "k1_1 = x[0] * w1[0][0] + x[1] * w1[1][0] + b1[0]\n",
    "k1_2 = x[0] * w1[0][1] + x[1] * w1[1][1] + b1[1]\n",
    "k1_3 = x[0] * w1[0][2] + x[1] * w1[1][2] + b1[2]\n",
    "k1_1, k1_3, k1_3"
   ]
  },
  {
   "cell_type": "code",
   "execution_count": 4,
   "metadata": {},
   "outputs": [
    {
     "data": {
      "text/plain": [
       "(0.8807970779778823, 0.8807970779778823, 0.8807970779778823)"
      ]
     },
     "execution_count": 4,
     "metadata": {},
     "output_type": "execute_result"
    }
   ],
   "source": [
    "# Result of first sigmoid activation\n",
    "def sig(i): return 1 / (1 + 2.718281828459045**-i)\n",
    "h1_1 = sig(k1_1)\n",
    "h1_2 = sig(k1_3)\n",
    "h1_3 = sig(k1_3)\n",
    "h1_1, h1_2, h1_3"
   ]
  },
  {
   "cell_type": "code",
   "execution_count": 5,
   "metadata": {},
   "outputs": [],
   "source": [
    "# Second layer\n",
    "w2 = [[1,1], [-1, -1], [-1, -1]]\n",
    "b2 = [0, 0]"
   ]
  },
  {
   "cell_type": "code",
   "execution_count": 6,
   "metadata": {},
   "outputs": [
    {
     "data": {
      "text/plain": [
       "(-0.8807970779778823, -0.8807970779778823)"
      ]
     },
     "execution_count": 6,
     "metadata": {},
     "output_type": "execute_result"
    }
   ],
   "source": [
    "# Result of second layer \n",
    "k2_1 = h1_1 * w2[0][0] + h1_2 * w2[1][0] + h1_3 * w2[2][0] + b2[0]\n",
    "k2_2 = h1_1 * w2[0][1] + h1_2 * w2[1][1] + h1_3 * w2[2][1] + b2[1]\n",
    "k2_1, k2_2"
   ]
  },
  {
   "cell_type": "code",
   "execution_count": 7,
   "metadata": {},
   "outputs": [
    {
     "data": {
      "text/plain": [
       "(0.5, 0.5)"
      ]
     },
     "execution_count": 7,
     "metadata": {},
     "output_type": "execute_result"
    }
   ],
   "source": [
    "# Softmax\n",
    "exp_sum= math.exp(k2_1) + math.exp(k2_2)\n",
    "ŷ1 = math.exp(k2_1) / exp_sum\n",
    "ŷ2 = math.exp(k2_2) / exp_sum\n",
    "ŷ1, ŷ2"
   ]
  },
  {
   "cell_type": "code",
   "execution_count": 8,
   "metadata": {},
   "outputs": [
    {
     "data": {
      "text/plain": [
       "(0.6931471805599453, 0.6931471805599453)"
      ]
     },
     "execution_count": 8,
     "metadata": {},
     "output_type": "execute_result"
    }
   ],
   "source": [
    "# Loss\n",
    "loss1 = -math.log(ŷ1)\n",
    "loss2 = -math.log(ŷ2)\n",
    "loss1, loss2"
   ]
  },
  {
   "cell_type": "code",
   "execution_count": 9,
   "metadata": {},
   "outputs": [
    {
     "data": {
      "text/plain": [
       "(-2.0, -2.0)"
      ]
     },
     "execution_count": 9,
     "metadata": {},
     "output_type": "execute_result"
    }
   ],
   "source": [
    "# Backward pass\n",
    "# Derivative of loss\n",
    "δloss1 = -1/ŷ1\n",
    "δloss2 = -1/ŷ2\n",
    "δloss1, δloss2"
   ]
  },
  {
   "cell_type": "code",
   "execution_count": 10,
   "metadata": {},
   "outputs": [
    {
     "data": {
      "text/plain": [
       "(-0.5, 0.5)"
      ]
     },
     "execution_count": 10,
     "metadata": {},
     "output_type": "execute_result"
    }
   ],
   "source": [
    "# Derivative of softmax\n",
    "δk2_1 = δloss1 * ŷ1 * (1-ŷ1)\n",
    "δk2_2 = δloss2 * ŷ2 * -ŷ2\n",
    "δk2_1, δk2_2"
   ]
  },
  {
   "cell_type": "code",
   "execution_count": 11,
   "metadata": {},
   "outputs": [
    {
     "data": {
      "text/plain": [
       "([[-0.44039853898894116, 0.44039853898894116],\n",
       "  [-0.44039853898894116, 0.44039853898894116],\n",
       "  [-0.44039853898894116, 0.44039853898894116]],\n",
       " [-0.5, 0.5])"
      ]
     },
     "execution_count": 11,
     "metadata": {},
     "output_type": "execute_result"
    }
   ],
   "source": [
    "# Derivatives of w2 and b2\n",
    "δw2 = [\n",
    "[δk2_1  * h1_1, δk2_2  * h1_1], \n",
    "[δk2_1  * h1_2, δk2_2  * h1_2], \n",
    "[δk2_1  * h1_3, δk2_2  * h1_3]]\n",
    "δb2 = [δk2_1 , δk2_2] \n",
    "δw2, δb2"
   ]
  },
  {
   "cell_type": "code",
   "execution_count": 12,
   "metadata": {},
   "outputs": [
    {
     "data": {
      "text/plain": [
       "(0.0, 0.0, 0.0)"
      ]
     },
     "execution_count": 12,
     "metadata": {},
     "output_type": "execute_result"
    }
   ],
   "source": [
    "# Derivatives of sigmoids of h1\n",
    "δh1_1 = δk2_1 * w2[0][0] + δk2_2 * w2[0][1]\n",
    "δh1_2 = δk2_1 *w2[1][0]  + δk2_2 *  w2[1][1]\n",
    "δh1_3 = δk2_1 *w2[2][0] + δk2_2 *  w2[2][1]\n",
    "δh1_1, δh1_2, δh1_3"
   ]
  },
  {
   "cell_type": "code",
   "execution_count": 13,
   "metadata": {},
   "outputs": [
    {
     "data": {
      "text/plain": [
       "(0.0, 0.0, 0.0)"
      ]
     },
     "execution_count": 13,
     "metadata": {},
     "output_type": "execute_result"
    }
   ],
   "source": [
    "δk1_1 = δh1_1 * h1_1*(1-h1_1)\n",
    "δk1_2 = δh1_2 * h1_2*(1-h1_2)\n",
    "δk1_3 = δh1_3 * h1_3*(1-h1_3)\n",
    "δk1_1, δk1_2, δk1_3"
   ]
  },
  {
   "cell_type": "code",
   "execution_count": 14,
   "metadata": {},
   "outputs": [
    {
     "data": {
      "text/plain": [
       "([[0.0, 0.0, 0.0], [-0.0, -0.0, -0.0]], [0.0, 0.0, 0.0])"
      ]
     },
     "execution_count": 14,
     "metadata": {},
     "output_type": "execute_result"
    }
   ],
   "source": [
    "# Derivatives of w1 and b1\n",
    "δw1 = [\n",
    "    [δk1_1 * x[0], δk1_2 * x[0], δk1_3* x[0] ],\n",
    "    [δk1_1 * x[1], δk1_2 * x[1], δk1_3* x[1] ]\n",
    "]\n",
    "\n",
    "δb1 = [δk1_1, δk1_2, δk1_3]\n",
    "δw1, δb1"
   ]
  }
 ],
 "metadata": {
  "kernelspec": {
   "display_name": "Python 3.10.8 64-bit",
   "language": "python",
   "name": "python3"
  },
  "language_info": {
   "codemirror_mode": {
    "name": "ipython",
    "version": 3
   },
   "file_extension": ".py",
   "mimetype": "text/x-python",
   "name": "python",
   "nbconvert_exporter": "python",
   "pygments_lexer": "ipython3",
   "version": "3.10.8"
  },
  "orig_nbformat": 4,
  "vscode": {
   "interpreter": {
    "hash": "aee8b7b246df8f9039afb4144a1f6fd8d2ca17a180786b69acc140d282b71a49"
   }
  }
 },
 "nbformat": 4,
 "nbformat_minor": 2
}
