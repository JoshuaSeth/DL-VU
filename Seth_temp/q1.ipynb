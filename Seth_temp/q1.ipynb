{
 "cells": [
  {
   "cell_type": "code",
   "execution_count": null,
   "metadata": {},
   "outputs": [],
   "source": [
    "from rnn_data import load_imdb\n",
    "import numpy as np\n",
    "import torch\n",
    "from torch import nn\n",
    "from torch.nn.utils.rnn import pad_sequence\n",
    "from torch.utils.data import DataLoader, Dataset\n"
   ]
  },
  {
   "cell_type": "code",
   "execution_count": null,
   "metadata": {},
   "outputs": [],
   "source": [
    "(x_train, y_train), (x_val, y_val), (i2w, w2i), numcls = load_imdb(final=False)"
   ]
  },
  {
   "cell_type": "code",
   "execution_count": null,
   "metadata": {},
   "outputs": [],
   "source": [
    "class IMDBDataset(Dataset):\n",
    "    def __init__(self, x, y, padding_value=0) -> None:\n",
    "        super().__init__()\n",
    "\n",
    "        x = [torch.tensor(xi) for xi in x]\n",
    "        self.x = pad_sequence(x, batch_first=True, padding_value=padding_value)\n",
    "\n",
    "        self.y = torch.tensor(y)\n",
    "\n",
    "    def __len__(self):\n",
    "        return len(self.y)\n",
    "\n",
    "    def __getitem__(self, index):\n",
    "        return self.x[index], self.y[index]"
   ]
  },
  {
   "cell_type": "code",
   "execution_count": null,
   "metadata": {},
   "outputs": [],
   "source": [
    "# Handle & convert to Torch datasets\n",
    "train_data = IMDBDataset(x_train, y_train)\n",
    "val_data = IMDBDataset(x_val, y_val)\n",
    "\n",
    "# Dataloaders\n",
    "train_loader = DataLoader(train_data, batch_size=128, shuffle=True)\n",
    "val_loader = DataLoader(val_data, batch_size=128, shuffle=True)"
   ]
  },
  {
   "cell_type": "code",
   "execution_count": null,
   "metadata": {},
   "outputs": [],
   "source": [
    "class GlobalMaxPool(nn.Module):\n",
    "    def __init__(self, dim: int) -> None:\n",
    "        super().__init__()\n",
    "        self.dim = dim\n",
    "\n",
    "    def forward(self, x):\n",
    "        return torch.max(x, dim=self.dim)[0]"
   ]
  },
  {
   "cell_type": "code",
   "execution_count": null,
   "metadata": {},
   "outputs": [],
   "source": [
    "network = nn.Sequential(\n",
    "    nn.Embedding(len(i2w),300, 0),\n",
    "    nn.Linear(300 ,300),\n",
    "    nn.ReLU(),\n",
    "    GlobalMaxPool(1),\n",
    "    nn.Linear(300, 2),\n",
    "    nn.Softmax()\n",
    ")"
   ]
  },
  {
   "cell_type": "code",
   "execution_count": null,
   "metadata": {},
   "outputs": [],
   "source": [
    "optimizer = torch.optim.Adam(network.parameters(), lr=0.001)\n",
    "loss_fn = nn.CrossEntropyLoss()\n",
    "\n",
    "for epoch in range(5000):\n",
    "    losses = []\n",
    "    for batch_x, batch_y in DataLoader(train_data, batch_size=128, shuffle=True):\n",
    "        pred_y = network(batch_x)\n",
    "        \n",
    "        loss = loss_fn(pred_y, batch_y)\n",
    "        t_loss = loss.item()\n",
    "        losses.append(t_loss)\n",
    "\n",
    "        network.zero_grad()\n",
    "        loss.backward()\n",
    "\n",
    "        optimizer.step()\n",
    "    \n",
    "    val_losses = []\n",
    "    for batch_x, batch_y in DataLoader(val_data, batch_size=128, shuffle=True):\n",
    "        pred_y = network(batch_x)\n",
    "        \n",
    "        loss = loss_fn(pred_y, batch_y)\n",
    "        val_losses.append(loss.item())\n",
    "\n",
    "        print(loss.item())\n",
    "\n",
    "    print('Epoch:', epoch, 'Loss:', np.mean(losses), 'Val Loss:', np.mean(val_losses))\n"
   ]
  }
 ],
 "metadata": {
  "kernelspec": {
   "display_name": "Python 3.10.8 64-bit",
   "language": "python",
   "name": "python3"
  },
  "language_info": {
   "codemirror_mode": {
    "name": "ipython",
    "version": 3
   },
   "file_extension": ".py",
   "mimetype": "text/x-python",
   "name": "python",
   "nbconvert_exporter": "python",
   "pygments_lexer": "ipython3",
   "version": "3.10.8"
  },
  "orig_nbformat": 4,
  "vscode": {
   "interpreter": {
    "hash": "aee8b7b246df8f9039afb4144a1f6fd8d2ca17a180786b69acc140d282b71a49"
   }
  }
 },
 "nbformat": 4,
 "nbformat_minor": 2
}
